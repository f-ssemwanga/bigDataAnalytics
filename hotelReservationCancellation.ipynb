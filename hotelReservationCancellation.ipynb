{
 "cells": [
  {
   "cell_type": "markdown",
   "metadata": {},
   "source": [
    "## Scenario\n",
    "\n",
    "One of the problems that often occurs in the hotel business is the practice of customers cancelling their room reservation. Some guests who decide to cancel their booking take the trouble to notify the hotel in advance, but many do not. This leads to unwanted vacancies in rooms that would have otherwise been occupied. The cancellation of bookings impacts hotels in various ways, including loss of revenue when the room cannot be resold; a reduction in profit margin caused by lowering the price at the last minute to resell the room; and additional costs incurred by paying for publicity to help sell these rooms. Therefore, being able to predict bookings that may be cancelled would minimise the impact that cancellations can have on a hotel. The manager of a hotel has given you the task of detecting and investigating the three most problematic areas, and providing solutions for each, with recommendations based on the overall results you receive. You are required to use machine learning techniques (regression/classification) taught in the Big Data Analytics module. "
   ]
  },
  {
   "cell_type": "code",
   "execution_count": 1,
   "metadata": {},
   "outputs": [],
   "source": [
    "#Required modules\n",
    "import pandas as pd\n",
    "from sklearn.model_selection import train_test_split\n",
    "from sklearn.ensemble import RandomForestClassifier\n",
    "from sklearn.feature_selection import SelectFromModel\n",
    "from sklearn.impute import SimpleImputer\n",
    "from sklearn.metrics import accuracy_score\n"
   ]
  }
 ],
 "metadata": {
  "kernelspec": {
   "display_name": "base",
   "language": "python",
   "name": "python3"
  },
  "language_info": {
   "codemirror_mode": {
    "name": "ipython",
    "version": 3
   },
   "file_extension": ".py",
   "mimetype": "text/x-python",
   "name": "python",
   "nbconvert_exporter": "python",
   "pygments_lexer": "ipython3",
   "version": "3.11.5"
  }
 },
 "nbformat": 4,
 "nbformat_minor": 2
}
